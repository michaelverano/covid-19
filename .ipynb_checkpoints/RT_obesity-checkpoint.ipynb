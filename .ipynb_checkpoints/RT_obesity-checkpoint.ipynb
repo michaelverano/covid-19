{
 "cells": [
  {
   "cell_type": "code",
   "execution_count": 5,
   "metadata": {},
   "outputs": [],
   "source": [
    "# For some reason Theano is unhappy when I run the GP, need to disable future warnings\n",
    "import warnings\n",
    "warnings.simplefilter(action='ignore', category=FutureWarning)\n",
    "\n",
    "import os\n",
    "import requests\n",
    "import pymc3 as pm\n",
    "import pandas as pd\n",
    "import numpy as np\n",
    "import theano\n",
    "import theano.tensor as tt\n",
    "\n",
    "from matplotlib import pyplot as plt\n",
    "from matplotlib import dates as mdates\n",
    "from matplotlib import ticker\n",
    "\n",
    "from datetime import date\n",
    "from datetime import datetime\n",
    "\n",
    "from IPython.display import clear_output\n",
    "\n",
    "%config InlineBackend.figure_format = 'retina'"
   ]
  },
  {
   "cell_type": "code",
   "execution_count": 6,
   "metadata": {},
   "outputs": [],
   "source": [
    "#Loading State Information\n",
    "url = 'https://covidtracking.com/api/v1/states/daily.csv'\n",
    "states = pd.read_csv(url,\n",
    "                     parse_dates=['date'],\n",
    "                     index_col=['state', 'date']).sort_index()\n",
    "\n",
    "# Note: GU/AS/VI do not have enough data for this model to run\n",
    "\n",
    "\n",
    "# Note: PR had -384 change recently in total count so unable to model\n",
    "states = states.drop(['MP', 'GU', 'AS', 'PR', 'VI'])"
   ]
  },
  {
   "cell_type": "code",
   "execution_count": 7,
   "metadata": {},
   "outputs": [],
   "source": [
    "# Errors in Covidtracking.com\n",
    "states.loc[('WA','2020-04-21'), 'positive'] = 12512\n",
    "states.loc[('WA','2020-04-22'), 'positive'] = 12753 \n",
    "states.loc[('WA','2020-04-23'), 'positive'] = 12753 + 190\n",
    "\n",
    "states.loc[('VA', '2020-04-22'), 'positive'] = 10266\n",
    "states.loc[('VA', '2020-04-23'), 'positive'] = 10988\n",
    "\n",
    "states.loc[('PA', '2020-04-22'), 'positive'] = 35684\n",
    "states.loc[('PA', '2020-04-23'), 'positive'] = 37053\n",
    "\n",
    "states.loc[('MA', '2020-04-20'), 'positive'] = 39643\n",
    "\n",
    "states.loc[('CT', '2020-04-18'), 'positive'] = 17550\n",
    "states.loc[('CT', '2020-04-19'), 'positive'] = 17962\n",
    "\n",
    "states.loc[('HI', '2020-04-22'), 'positive'] = 586\n",
    "\n",
    "states.loc[('RI', '2020-03-07'), 'positive'] = 3"
   ]
  },
  {
   "cell_type": "markdown",
   "metadata": {},
   "source": [
    "#### Integrity Checks"
   ]
  },
  {
   "cell_type": "code",
   "execution_count": 11,
   "metadata": {},
   "outputs": [
    {
     "name": "stdout",
     "output_type": "stream",
     "text": [
      "51\n"
     ]
    }
   ],
   "source": [
    "today = datetime.combine(date.today(), datetime.min.time())\n",
    "#print(today)\n",
    "last_updated = states.reset_index('date').groupby('state')['date'].max()\n",
    "#print(last_updated)\n",
    "#type(last_updated)\n",
    "is_current = last_updated < today\n",
    "print(is_current.sum())\n"
   ]
  },
  {
   "cell_type": "markdown",
   "metadata": {},
   "source": [
    "## Load Patient Information\n",
    "#### Download"
   ]
  },
  {
   "cell_type": "code",
   "execution_count": 16,
   "metadata": {},
   "outputs": [
    {
     "name": "stdout",
     "output_type": "stream",
     "text": [
      "Already downloaded CSV\n"
     ]
    }
   ],
   "source": [
    "def download_file(url, local_filename):\n",
    "    \"\"\"From https://stackoverflow.com/questions/16694907/\"\"\"\n",
    "    with requests.get(url, stream=True) as r:\n",
    "        r.raise_for_status()\n",
    "        with open(local_filename, 'wb') as f:\n",
    "            for chunk in r.iter_content(chunk_size=8192): \n",
    "                if chunk: # filter out keep-alive new chunks\n",
    "                    f.write(chunk)\n",
    "    return local_filename\n",
    "\n",
    "\n",
    "URL = \"https://raw.githubusercontent.com/beoutbreakprepared/nCoV2019/master/latest_data/latestdata.csv\"\n",
    "LINELIST_PATH = 'data/linelist.csv'\n",
    "\n",
    "if not os.path.exists(LINELIST_PATH):\n",
    "    print('Downloading file, this will take a while ~100mb')\n",
    "    try:\n",
    "        download_file(URL, LINELIST_PATH)\n",
    "        clear_output(wait=True)\n",
    "        print('Done downloading.')\n",
    "    except:\n",
    "        print('Something went wrong. Try again.')\n",
    "else:\n",
    "    print('Already downloaded CSV')"
   ]
  },
  {
   "cell_type": "code",
   "execution_count": 17,
   "metadata": {},
   "outputs": [],
   "source": [
    "# Parse & Clean Patient Info\n",
    "# Load the patient CSV\n",
    "patients = pd.read_csv(\n",
    "    'data/linelist.csv',\n",
    "    parse_dates=False,\n",
    "    usecols=[\n",
    "        'date_confirmation',\n",
    "        'date_onset_symptoms'],\n",
    "    low_memory=False)\n",
    "\n",
    "patients.columns = ['Onset', 'Confirmed']\n",
    "\n",
    "# There's an errant reversed date\n",
    "patients = patients.replace('01.31.2020', '31.01.2020')\n",
    "\n",
    "# Only keep if both values are present\n",
    "patients = patients.dropna()\n",
    "\n",
    "# Must have strings that look like individual dates\n",
    "# \"2020.03.09\" is 10 chars long\n",
    "is_ten_char = lambda x: x.str.len().eq(10)\n",
    "patients = patients[is_ten_char(patients.Confirmed) & \n",
    "                    is_ten_char(patients.Onset)]\n",
    "\n",
    "# Convert both to datetimes\n",
    "patients.Confirmed = pd.to_datetime(\n",
    "    patients.Confirmed, format='%d.%m.%Y')\n",
    "patients.Onset = pd.to_datetime(\n",
    "    patients.Onset, format='%d.%m.%Y')\n",
    "\n",
    "# Only keep records where confirmed > onset\n",
    "patients = patients[patients.Confirmed >= patients.Onset]"
   ]
  },
  {
   "cell_type": "code",
   "execution_count": null,
   "metadata": {},
   "outputs": [],
   "source": []
  }
 ],
 "metadata": {
  "kernelspec": {
   "display_name": "Python 3",
   "language": "python",
   "name": "python3"
  },
  "language_info": {
   "codemirror_mode": {
    "name": "ipython",
    "version": 3
   },
   "file_extension": ".py",
   "mimetype": "text/x-python",
   "name": "python",
   "nbconvert_exporter": "python",
   "pygments_lexer": "ipython3",
   "version": "3.6.10"
  }
 },
 "nbformat": 4,
 "nbformat_minor": 4
}
